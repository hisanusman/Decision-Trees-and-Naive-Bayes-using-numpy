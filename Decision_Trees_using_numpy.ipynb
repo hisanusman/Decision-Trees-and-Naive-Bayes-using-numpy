{
  "nbformat": 4,
  "nbformat_minor": 0,
  "metadata": {
    "colab": {
      "provenance": []
    },
    "kernelspec": {
      "name": "python3",
      "display_name": "Python 3"
    },
    "language_info": {
      "name": "python"
    }
  },
  "cells": [
    {
      "cell_type": "markdown",
      "source": [
        "# Importing necessary libraries:"
      ],
      "metadata": {
        "id": "j6_F8nZ0bpag"
      }
    },
    {
      "cell_type": "code",
      "source": [
        "import random\n",
        "import numpy as np\n",
        "import pandas as pd"
      ],
      "metadata": {
        "id": "bmz5iBrMjEEB"
      },
      "execution_count": null,
      "outputs": []
    },
    {
      "cell_type": "markdown",
      "source": [
        "## Decision Tree class (without scikit-learn):"
      ],
      "metadata": {
        "id": "SUfCOWugbusG"
      }
    },
    {
      "cell_type": "code",
      "source": [
        "class DecisionTree:\n",
        "    def __init__(self):\n",
        "        self.tree = None\n",
        "\n",
        "    def entropy(self, target):\n",
        "\n",
        "        classes, counts = np.unique(target, return_counts=True)\n",
        "        probabilities = counts / len(target)\n",
        "        entropy = -np.sum(probabilities * np.log2(probabilities + 1e-10))       # add a small epsilon to avoid log(0)\n",
        "        return entropy\n",
        "\n",
        "    def information_gain(self, data, target, attribute):\n",
        "\n",
        "        original_entropy = self.entropy(target)\n",
        "\n",
        "        values, counts = np.unique(data[attribute], return_counts=True)\n",
        "        print(values, counts,attribute)\n",
        "\n",
        "        weighted_entropy=[]\n",
        "        for i in range(len(values)):\n",
        "          weighted_entropy.append((counts[i] / np.sum(counts)) * self.entropy(target[data[attribute] == values[i]]))\n",
        "\n",
        "        weighted_entropy = sum(weighted_entropy)\n",
        "\n",
        "        print(\"wei:\",weighted_entropy)\n",
        "\n",
        "        information_gain = original_entropy - weighted_entropy\n",
        "        return information_gain\n",
        "\n",
        "    def find_best_attribute(self, data, target, attributes):                    # finding attribute with highest information gain\n",
        "        if len(attributes) == 0:\n",
        "            return None                                                         # no attribute left to split on\n",
        "\n",
        "        gains = [self.information_gain(data, target, attr) for attr in attributes]\n",
        "        print(\"gains: \",gains)\n",
        "        print(\"attributes :\",attributes)\n",
        "        max_gain = max(gains)\n",
        "        print(\"max: \",max_gain)\n",
        "\n",
        "        max_attribute = np.argmax(gains)\n",
        "\n",
        "        best_attribute = attributes[max_attribute]\n",
        "        print(\"best attribute: \",best_attribute)\n",
        "\n",
        "        return best_attribute\n",
        "\n",
        "    def build_tree(self, data, target, attributes):\n",
        "\n",
        "        if len(np.unique(target)) == 1:\n",
        "            return target.iloc[0]\n",
        "\n",
        "        if len(attributes) == 0:\n",
        "            return np.argmax(np.bincount(target))\n",
        "\n",
        "        best_attribute = self.find_best_attribute(data, target, attributes)     # recursive case\n",
        "        tree = {best_attribute: {}}\n",
        "\n",
        "        for value in np.unique(data[best_attribute]):\n",
        "            subset_data = data[data[best_attribute] == value]\n",
        "            subset_target = target[data[best_attribute] == value]\n",
        "            subset_attributes = [attr for attr in attributes if attr != best_attribute]\n",
        "\n",
        "            subtree = self.build_tree(subset_data, subset_target, subset_attributes)\n",
        "            tree[best_attribute][value] = subtree\n",
        "\n",
        "        return tree\n",
        "\n",
        "\n",
        "\n",
        "    def fit(self, data, target):\n",
        "        attributes = data.columns.tolist()\n",
        "        self.tree = self.build_tree(data, target, attributes)\n",
        "        print(self.tree)\n",
        "\n",
        "    def predict_instance(self, instance, tree):\n",
        "        if not isinstance(tree, dict):\n",
        "            return tree\n",
        "        attribute = list(tree.keys())[0]\n",
        "        value = instance[attribute]\n",
        "        subtree = tree[attribute][value]\n",
        "        return self.predict_instance(instance, subtree)\n",
        "\n",
        "    def predict(self, data):\n",
        "        return [self.predict_instance(instance, self.tree) for _, instance in data.iterrows()]"
      ],
      "metadata": {
        "id": "XyrpJAsGjfdw"
      },
      "execution_count": null,
      "outputs": []
    },
    {
      "cell_type": "markdown",
      "source": [
        "## Getting Predicitions:"
      ],
      "metadata": {
        "id": "sSey25Myb0e7"
      }
    },
    {
      "cell_type": "code",
      "source": [
        "data = {\n",
        "    'Outlook': ['Sunny', 'Sunny', 'Overcast', 'Rain', 'Rain', 'Rain', 'Overcast', 'Sunny', 'Sunny', 'Rain', 'Sunny', 'Overcast', 'Overcast', 'Rain'],\n",
        "    'Temperature': ['Hot', 'Hot', 'Hot', 'Mild', 'Cool', 'Cool', 'Cool', 'Mild', 'Cool', 'Mild', 'Mild', 'Mild', 'Hot', 'Mild'],\n",
        "    'Humidity': ['High', 'High', 'High', 'High', 'Normal', 'Normal', 'Normal', 'High', 'Normal', 'Normal', 'Normal', 'High', 'Normal', 'High'],\n",
        "    'Windy': ['Weak', 'String', 'Weak', 'Weak', 'Weak', 'String', 'String', 'Weak', 'Weak', 'Weak', 'String', 'String', 'Weak', 'String'],\n",
        "    'PlayTennis': ['No', 'No', 'Yes', 'Yes', 'Yes', 'No', 'Yes', 'No', 'Yes', 'Yes', 'Yes', 'Yes', 'Yes', 'No']\n",
        "}\n",
        "\n",
        "\n",
        "df = pd.DataFrame(data)\n",
        "\n",
        "print(df)"
      ],
      "metadata": {
        "colab": {
          "base_uri": "https://localhost:8080/"
        },
        "id": "hC9g8J5JkJoV",
        "outputId": "17d619f8-3db7-4300-bccf-c7d8be0ecd49"
      },
      "execution_count": null,
      "outputs": [
        {
          "output_type": "stream",
          "name": "stdout",
          "text": [
            "     Outlook Temperature Humidity   Windy PlayTennis\n",
            "0      Sunny         Hot     High    Weak         No\n",
            "1      Sunny         Hot     High  String         No\n",
            "2   Overcast         Hot     High    Weak        Yes\n",
            "3       Rain        Mild     High    Weak        Yes\n",
            "4       Rain        Cool   Normal    Weak        Yes\n",
            "5       Rain        Cool   Normal  String         No\n",
            "6   Overcast        Cool   Normal  String        Yes\n",
            "7      Sunny        Mild     High    Weak         No\n",
            "8      Sunny        Cool   Normal    Weak        Yes\n",
            "9       Rain        Mild   Normal    Weak        Yes\n",
            "10     Sunny        Mild   Normal  String        Yes\n",
            "11  Overcast        Mild     High  String        Yes\n",
            "12  Overcast         Hot   Normal    Weak        Yes\n",
            "13      Rain        Mild     High  String         No\n"
          ]
        }
      ]
    },
    {
      "cell_type": "code",
      "source": [
        "df['PlayTennis'] = df['PlayTennis'].map({'No': 0, 'Yes': 1})\n",
        "\n",
        "X_tennis = df.drop('PlayTennis', axis=1)\n",
        "y_tennis = df['PlayTennis']"
      ],
      "metadata": {
        "id": "gOPqV8_GkN7f"
      },
      "execution_count": null,
      "outputs": []
    },
    {
      "cell_type": "code",
      "source": [
        "tennis_dt_model = DecisionTree()\n",
        "tennis_dt_model.fit(X_tennis, y_tennis)\n",
        "\n",
        "predictions = tennis_dt_model.predict(X_tennis)"
      ],
      "metadata": {
        "colab": {
          "base_uri": "https://localhost:8080/"
        },
        "id": "HaW5gm9R6iBA",
        "outputId": "40309709-42dc-4643-af2b-51f0bc9337aa"
      },
      "execution_count": null,
      "outputs": [
        {
          "output_type": "stream",
          "name": "stdout",
          "text": [
            "['Overcast' 'Rain' 'Sunny'] [4 5 5] Outlook\n",
            "wei: 0.6935361386488728\n",
            "['Cool' 'Hot' 'Mild'] [4 4 6] Temperature\n",
            "wei: 0.9110633927231372\n",
            "['High' 'Normal'] [7 7] Humidity\n",
            "wei: 0.7884504570197504\n",
            "['String' 'Weak'] [6 8] Windy\n",
            "wei: 0.8921589279738225\n",
            "gains:  [0.2467498197332193, 0.02922256565895487, 0.1518355013623417, 0.0481270304082696]\n",
            "attributes : ['Outlook', 'Temperature', 'Humidity', 'Windy']\n",
            "max:  0.2467498197332193\n",
            "best attribute:  Outlook\n",
            "['Cool' 'Mild'] [2 3] Temperature\n",
            "wei: 0.9509775001441545\n",
            "['High' 'Normal'] [2 3] Humidity\n",
            "wei: 0.9509775001441545\n",
            "['String' 'Weak'] [2 3] Windy\n",
            "wei: -1.4426951601859516e-10\n",
            "gains:  [0.019973094021975113, 0.019973094021975113, 0.9709505943103991]\n",
            "attributes : ['Temperature', 'Humidity', 'Windy']\n",
            "max:  0.9709505943103991\n",
            "best attribute:  Windy\n",
            "['Cool' 'Hot' 'Mild'] [1 2 2] Temperature\n",
            "wei: 0.3999999997980227\n",
            "['High' 'Normal'] [3 2] Humidity\n",
            "wei: -1.4426951601859516e-10\n",
            "['String' 'Weak'] [2 3] Windy\n",
            "wei: 0.9509775001441545\n",
            "gains:  [0.5709505943681069, 0.9709505943103991, 0.019973094021975113]\n",
            "attributes : ['Temperature', 'Humidity', 'Windy']\n",
            "max:  0.9709505943103991\n",
            "best attribute:  Humidity\n",
            "{'Outlook': {'Overcast': 1, 'Rain': {'Windy': {'String': 0, 'Weak': 1}}, 'Sunny': {'Humidity': {'High': 0, 'Normal': 1}}}}\n"
          ]
        }
      ]
    },
    {
      "cell_type": "code",
      "source": [
        "print(\"Predictions:\", predictions)"
      ],
      "metadata": {
        "colab": {
          "base_uri": "https://localhost:8080/"
        },
        "id": "XvvKB2bHmtrW",
        "outputId": "8db73dcf-d923-492c-9912-c203ba53fbeb"
      },
      "execution_count": null,
      "outputs": [
        {
          "output_type": "stream",
          "name": "stdout",
          "text": [
            "Predictions: [0, 0, 1, 1, 1, 0, 1, 0, 1, 1, 1, 1, 1, 0]\n"
          ]
        }
      ]
    }
  ]
}